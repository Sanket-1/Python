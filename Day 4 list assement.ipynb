{
 "cells": [
  {
   "cell_type": "markdown",
   "metadata": {},
   "source": [
    "SANKET SHELKE\n",
    "--\n",
    "DAY 4 ASSESMENT ON LIST"
   ]
  },
  {
   "cell_type": "code",
   "execution_count": 7,
   "metadata": {},
   "outputs": [
    {
     "name": "stdout",
     "output_type": "stream",
     "text": [
      "The main list = : [1, 2, 3, 4, 5, 6, 7]\n",
      "The sub list =  [1, 5, 7]\n",
      "Match is there\n"
     ]
    }
   ],
   "source": [
    "mainlist=[1,2,3,4,5,6,7]\n",
    "sublist=[1,5,7]\n",
    "print(\"The main list = :\",mainlist)\n",
    "print(\"The sub list = \",sublist)\n",
    "if (set(sublist).issubset(set(mainlist))):\n",
    "    print(\"Match is there\")\n",
    "else:\n",
    "    print(\"Match fail\")"
   ]
  },
  {
   "cell_type": "code",
   "execution_count": null,
   "metadata": {},
   "outputs": [],
   "source": []
  }
 ],
 "metadata": {
  "kernelspec": {
   "display_name": "Python 3",
   "language": "python",
   "name": "python3"
  },
  "language_info": {
   "codemirror_mode": {
    "name": "ipython",
    "version": 3
   },
   "file_extension": ".py",
   "mimetype": "text/x-python",
   "name": "python",
   "nbconvert_exporter": "python",
   "pygments_lexer": "ipython3",
   "version": "3.7.3"
  }
 },
 "nbformat": 4,
 "nbformat_minor": 2
}
